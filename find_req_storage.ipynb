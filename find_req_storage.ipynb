{
 "cells": [
  {
   "cell_type": "code",
   "execution_count": 80,
   "id": "473c6ba6-764c-4932-abfe-b5b6953512e5",
   "metadata": {},
   "outputs": [],
   "source": [
    "from steam_web_api import Steam\n",
    "import time\n",
    "from bs4 import BeautifulSoup\n",
    "import re\n",
    "\n",
    "\n",
    "\n",
    "api_key = \"YOUR_STEAM_API_KEY\"\n",
    "# to get your key follow this - \"https://www.youtube.com/watch?v=LaRHkSVvDjI\"\n",
    "\n",
    "steam = Steam(api_key)\n",
    "\n",
    "\n",
    "\n",
    "game_ids = ['1332010', '2161700', '1625450', '1782210', '424840', '730']\n",
    "\n",
    "\n",
    "\n",
    "data= [ ]\n",
    "\n",
    "for i in game_ids:\n",
    "    \n",
    "    info = steam.apps.get_app_details(i)\n",
    "    data.append(info)\n",
    "    del info\n",
    "    time.sleep(5)     ### cooldown\n",
    "    \n",
    "\n",
    "\n",
    "print(len(data))"
   ]
  },
  {
   "cell_type": "code",
   "execution_count": null,
   "id": "98478fb3-b306-4d10-bb34-ea00b606946a",
   "metadata": {},
   "outputs": [],
   "source": [
    "''' function to remove special characters '''\n",
    "\n",
    "\n",
    "def clean_string(s):\n",
    "    ptrn = r'[^a-zA-Z0-9\\s]'\n",
    "    result = re.sub(ptrn,\"\", s).strip()\n",
    "    return result\n",
    "    \n",
    "''' to retrieve steam game id '''\n",
    "\n",
    "def k(indx):\n",
    "    return list(data[indx].keys())[0]\n",
    "\n",
    "\n",
    "\n"
   ]
  },
  {
   "cell_type": "code",
   "execution_count": 10,
   "id": "c4adb359-e53a-4297-915e-e9c27fa00012",
   "metadata": {},
   "outputs": [],
   "source": [
    "\n"
   ]
  },
  {
   "cell_type": "code",
   "execution_count": 77,
   "id": "66bf3dc5-70bc-4d24-bc00-6fc3ef289c24",
   "metadata": {},
   "outputs": [
    {
     "name": "stdout",
     "output_type": "stream",
     "text": [
      "10 gb Stray\n",
      "30 gb Persona 3 Reload\n",
      "100 mb Muck\n",
      "200 mb Crab Game\n",
      "10 gb Little Nightmares\n",
      "85 gb Counter-Strike 2\n"
     ]
    }
   ],
   "source": [
    "for i in range(0, len(data)):\n",
    "    try:\n",
    "        name_ = data[i][k(i)]['data']['name']\n",
    "    \n",
    "        soup = BeautifulSoup(data[i][k(i)]['data']['pc_requirements']['recommended'], \"html.parser\")\n",
    "    \n",
    "    \n",
    "        print(clean_string(soup.text.lower().split(\"storage\")[1].split(\"available\")[0] ), name_)\n",
    "        \n",
    "    except Exception as e: \n",
    "        name_ = data[i][k(i)]['data']['name']\n",
    "        \n",
    "        soup2 = BeautifulSoup(data[i][k(i)]['data']['pc_requirements']['minimum'], \"html.parser\")\n",
    "\n",
    "        print(clean_string(soup2.text.lower().split(\"storage\")[1].split(\"available\")[0] ), name_)\n",
    "        \n",
    "    # del soup\n"
   ]
  },
  {
   "cell_type": "code",
   "execution_count": 76,
   "id": "de8590f6-1fd8-43ed-bb58-c316b0a57bbe",
   "metadata": {},
   "outputs": [
    {
     "data": {
      "text/plain": [
       "'Counter-Strike 2'"
      ]
     },
     "execution_count": 76,
     "metadata": {},
     "output_type": "execute_result"
    }
   ],
   "source": [
    "data[5]['730']['data']['name']"
   ]
  }
 ],
 "metadata": {
  "kernelspec": {
   "display_name": "Python 3 (ipykernel)",
   "language": "python",
   "name": "python3"
  },
  "language_info": {
   "codemirror_mode": {
    "name": "ipython",
    "version": 3
   },
   "file_extension": ".py",
   "mimetype": "text/x-python",
   "name": "python",
   "nbconvert_exporter": "python",
   "pygments_lexer": "ipython3",
   "version": "3.12.3"
  }
 },
 "nbformat": 4,
 "nbformat_minor": 5
}
